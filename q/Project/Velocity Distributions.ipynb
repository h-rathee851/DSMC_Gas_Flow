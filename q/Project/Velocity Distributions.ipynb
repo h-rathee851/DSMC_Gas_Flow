{
 "cells": [
  {
   "cell_type": "code",
   "execution_count": 225,
   "metadata": {
    "scrolled": false
   },
   "outputs": [
    {
     "data": {
      "image/png": "[encoded data removed]",
      "text/plain": [
       "<matplotlib.figure.Figure at 0x1108f6748>"
      ]
     },
     "metadata": {},
     "output_type": "display_data"
    }
   ],
   "source": [
    "# %matplotlib notebook\n",
    "import numpy as np\n",
    "import matplotlib.pyplot as plt\n",
    "import seaborn as sns\n",
    "import matplotlib.animation as animation\n",
    "import time\n",
    "\n",
    "g = -0\n",
    "\n",
    "m = 5e-23\n",
    "\n",
    "nop = 500 # Number of Particles to be simulated\n",
    "\n",
    "nopreal = 1e25  # Number of particles represented\n",
    "\n",
    "w = nopreal/nop\n",
    "\n",
    "d = 3.7e-10   # Diameter of particles\n",
    "\n",
    "sigma = d\n",
    "\n",
    "m_data = np.array([m]*nop)  # Mass of particles\n",
    "\n",
    "rtemp = 285 #Room temp\n",
    "\n",
    "wtemp = 285 # Wall Temp\n",
    "\n",
    "kb =   1.3806485e-23   # Boltzman Constant\n",
    "\n",
    "wallx = 5\n",
    "\n",
    "wally = 5\n",
    "\n",
    "nocx = 50   # No of cells in x\n",
    "\n",
    "nocy = 50   # No of cells in y\n",
    "\n",
    "celldx = wallx/nocx          # Cell Dimen x\n",
    "\n",
    "celldy = wally/nocy         # Cell Dimen y\n",
    "\n",
    "cell_ar = celldx*celldy # Area of cell\n",
    "\n",
    "noct = int(nocx*nocy) # Total number of cells\n",
    "\n",
    "x_his = [] # history of x-data\n",
    "\n",
    "y_his = [] # history of y-data\n",
    "\n",
    "x_data = (wallx/2)+(0.001+np.random.uniform(size = nop))*wallx/10\n",
    "y_data = (wallx/2)+(0.001+np.random.uniform(size = nop))*wally/10\n",
    "\n",
    "x_his.append(x_data)\n",
    "y_his.append(y_data)\n",
    "\n",
    "vx_data = np.sqrt(-2*(kb/m_data)*rtemp*np.log(np.random.uniform(size = nop)))*np.cos(2*np.pi*np.random.uniform(size = nop))\n",
    "vy_data = np.sqrt(-2*(kb/m_data)*rtemp*np.log(np.random.uniform(size = nop)))*np.sin(2*np.pi*np.random.uniform(size = nop))\n",
    "\n",
    "# vx_data = (np.random.uniform(size = nop)-0.5)*60\n",
    "# vy_data = (np.random.uniform(size = nop)-0.5)*60\n",
    "\n",
    "cell_data = np.array([0]*nop)\n",
    "\n",
    "v_data = np.sqrt((vx_data**2)+(vy_data**2))\n",
    "\n",
    "# sns.distplot(vx_data, label=\"X_V\")\n",
    "\n",
    "# sns.distplot(vy_data, label=\"y_v\")\n",
    "\n",
    "# sns.distplot(v_data, label=\"V\")\n",
    "\n",
    "# plt.legend()\n",
    "\n",
    "# plt.show()\n",
    "\n",
    "# plt.gcf().clear()\n",
    "\n",
    "# plt.plot(x_data,y_data ,\"ro\")\n",
    "\n",
    "# plt.show()\n",
    "\n",
    "# plt.gcf().clear()\n",
    "\n",
    "#range  \n",
    "tstart = 0.\n",
    "tstop = 5\n",
    "\n",
    "# set up steps \n",
    "n = 100\n",
    "\n",
    "dt = (tstop-tstart)/n\n",
    "# set up the array of time\n",
    "t= np.linspace(tstart, tstop, n) \n",
    "\n",
    "\n",
    "def velocityx():\n",
    "    \n",
    "    return 0\n",
    "\n",
    "def velocityy():\n",
    "    \n",
    "    return g\n",
    "\n",
    "def posx(vx):\n",
    "    \n",
    "    return vx\n",
    "\n",
    "def posy(vy):\n",
    "    \n",
    "    return vy\n",
    "\n",
    "def solvstep(f, x, args,n):\n",
    "    \n",
    "    return x + ((dt/n)*f(**args))\n",
    "\n",
    "\n",
    "for m in range(0,n):\n",
    "    \n",
    "    for h in range(0,3):\n",
    "        x_data = solvstep(posx, x_data, {\"vx\":vx_data},3)\n",
    "    \n",
    "        y_data = solvstep(posy, y_data, {\"vy\":vy_data},3)\n",
    "    \n",
    "        vx_data = solvstep(velocityx, vx_data, {},3)\n",
    "    \n",
    "        vy_data = solvstep(velocityy, vy_data, {},3)\n",
    "    \n",
    "    \n",
    "    for j in range(0,nop):\n",
    "        \n",
    "        xcellno =  int(x_data[j] / celldx)  # Cell # of the particle in x-axis\n",
    "        \n",
    "        ycellno = int(y_data[j]/ celldy)    # Cell # of the particle in y-axis\n",
    "        \n",
    "        if (ycellno < 0):\n",
    "            \n",
    "            ycellno = 0\n",
    "            \n",
    "        if (xcellno < 0):\n",
    "            \n",
    "            xcellno = 0\n",
    "            \n",
    "            \n",
    "        cellno = ((ycellno)*nocx)+xcellno\n",
    "        \n",
    "        cell_data[j] = cellno\n",
    "        \n",
    "        \n",
    "    \n",
    "    for j in range(0,noct):\n",
    "        \n",
    "        parincell = []\n",
    "        \n",
    "        for f in range(0, nop):\n",
    "            \n",
    "            if(cell_data[f] == j):\n",
    "                \n",
    "                parincell.append(f)     # Making array of particle numbers in the given cell\n",
    "                \n",
    "        \n",
    "        parincell = np.array(parincell)\n",
    "        for i in range(0, parincell.size):\n",
    "            \n",
    "            for k in range(i+1, parincell.size):\n",
    "                \n",
    "                if(True ):\n",
    "                    \n",
    "                    a = parincell[i]\n",
    "                    b = parincell[k]\n",
    "                    gx = vx_data[b] - vx_data[a]\n",
    "                    gy = vy_data[b] - vy_data[a]\n",
    "                \n",
    "                    vel = np.sqrt((gx**2)+(gy**2))\n",
    "                \n",
    "#                     if(gx > 0 and gy > 0):\n",
    "                    \n",
    "#                         prob = 0\n",
    "                    \n",
    "#                     else:\n",
    "                    \n",
    "#                         prob = dt*vel*sigma*w/cell_ar\n",
    "                    \n",
    "    \n",
    "                    prob = dt*vel*sigma*w/cell_ar\n",
    "                \n",
    "                    alpha = np.random.uniform()\n",
    "                \n",
    "                    if(alpha < prob):\n",
    "                    \n",
    "                        alpha1 = np.random.uniform()\n",
    "                    \n",
    "                        diff = ((vx_data[a]-vx_data[b])*(np.cos(2*np.pi*alpha1)))+((vy_data[a]-vy_data[b])*(np.sin(2*np.pi*alpha1)))\n",
    "                    \n",
    "                        vx_data[b] = vx_data[b] + ((diff)*np.cos(2*np.pi*alpha1))\n",
    "                    \n",
    "                        vx_data[a] = vx_data[a] - ((diff)*np.cos(2*np.pi*alpha1))\n",
    "                    \n",
    "                        vy_data[b] = vy_data[b] + ((diff)*np.sin(2*np.pi*alpha1))\n",
    "                    \n",
    "                        vy_data[a] = vy_data[a] - ((diff)*np.sin(2*np.pi*alpha1))\n",
    "                \n",
    "                \n",
    "                   \n",
    "       \n",
    "    \n",
    "    \n",
    "    for i in range(0,nop):\n",
    "        \n",
    "        if((y_data[i] <= 0 and vy_data[i] < 0 ) or (y_data[i] >= wally and vy_data[i] > 0)):\n",
    "            \n",
    "            alpha_1 = np.random.uniform()\n",
    "            alpha_2 = np.random.uniform()\n",
    "            alpha_3 = np.random.uniform()\n",
    "\n",
    "#             vx_data[i] = np.sqrt(-2*(kb/m_data[i])*wtemp*np.log(alpha_1))*np.cos(2*np.pi*alpha_2)\n",
    "#             vy_data[i] = np.sqrt(-2*(kb/m_data[i])*wtemp*np.log(alpha_3))\n",
    "            \n",
    "    \n",
    "            vy_data[i] = -vy_data[i]\n",
    "    \n",
    "            \n",
    "#             if (y_data[i] >= wally):\n",
    "                \n",
    "# #                 y_data[i] = wally\n",
    "#                 vy_data[i] = -vy_data[i]\n",
    "                \n",
    "#             if(y_data[i] <=0 ):\n",
    "#                 y_data[i] = 0\n",
    "            \n",
    "        if((x_data[i] <= 0 and vx_data[i] < 0 ) or (x_data[i] >= wallx and vx_data[i] > 0)):\n",
    "            \n",
    "            alpha_1 = np.random.uniform()\n",
    "            alpha_2 = np.random.uniform()\n",
    "            alpha_3 = np.random.uniform()\n",
    "        \n",
    "#             vx_data[i] = np.sqrt(-2*(kb/m_data[i])*wtemp*np.log(alpha_1))\n",
    "#             vy_data[i] = np.sqrt(-2*(kb/m_data[i])*wtemp*np.log(alpha_2))*np.cos(2*np.pi*alpha_3)\n",
    "            \n",
    "            vx_data[i] = -vx_data[i]\n",
    "            \n",
    "#             if (x_data[i] <=0):\n",
    "                \n",
    "#                 x_data[i] = 0\n",
    "                \n",
    "#             else:\n",
    "#                 x_data[i] = wallx\n",
    "# #                 vx_data[i] = -vx_data[i]\n",
    "     \n",
    "    \n",
    "\n",
    "    \n",
    "    x_his.append(x_data)\n",
    "    \n",
    "    y_his.append(y_data)\n",
    "\n",
    "    \n",
    "    \n",
    "    \n",
    "fig = plt.figure()\n",
    "ax1 = fig.add_subplot(1,1,1)\n",
    "\n",
    "ax1.set_xlim(-celldx, wallx+celldx)\n",
    "ax1.set_ylim(-celldy, wally+celldy)\n",
    "\n",
    "ims = []\n",
    "\n",
    "# for i in range(0, n):\n",
    "    \n",
    "#     ims.append(ax1.plot(x_his[i], y_his[i],'ro'))\n",
    "\n",
    "# im_ani = animation.ArtistAnimation(fig, ims, interval=n, repeat_delay=500,\n",
    "#                                    blit=True)\n",
    "\n",
    "ax1.plot(x_his[-1], y_his[-1],'ro')\n",
    "plt.show()\n",
    "\n",
    "\n",
    "# from matplotlib import rc\n",
    "\n",
    "    \n",
    "# im_ani.save('im.mp4')\n",
    "# HTML(im_ani.to_html5_video())\n",
    "\n",
    "# ax1.plot(x_his[-1], y_his[-1],\"ro\")\n",
    "\n",
    "# print(y_his[-1], x_his[-1])\n",
    "\n",
    "\n",
    "\n",
    "# plt.gcf().clear()\n",
    "\n",
    "\n",
    "    \n",
    "\n"
   ]
  },
  {
   "cell_type": "code",
   "execution_count": 220,
   "metadata": {},
   "outputs": [],
   "source": [
    "ke_data_temp = []\n",
    "\n"
   ]
  },
  {
   "cell_type": "code",
   "execution_count": 226,
   "metadata": {},
   "outputs": [],
   "source": [
    "\n",
    "v_data = np.sqrt((vx_data**2)+(vy_data**2))\n",
    "\n",
    "ke_data = (1/2)*m_data*v_data*v_data\n",
    "\n",
    "meanke = np.mean(ke_data)\n",
    "\n",
    "ke_data_temp.append(meanke)"
   ]
  },
  {
   "cell_type": "code",
   "execution_count": 253,
   "metadata": {},
   "outputs": [],
   "source": [
    "temp = np.array([285. ,295.0, 305.0,315.0,325.0,335.])\n",
    "\n",
    "\n",
    "    "
   ]
  },
  {
   "cell_type": "code",
   "execution_count": 227,
   "metadata": {},
   "outputs": [
    {
     "data": {
      "text/plain": [
       "[3.5866330401093876e-21, 3.8612059741733916e-21, 3.9652035870455826e-21]"
      ]
     },
     "execution_count": 227,
     "metadata": {},
     "output_type": "execute_result"
    }
   ],
   "source": [
    "ke_data_temp"
   ]
  },
  {
   "cell_type": "code",
   "execution_count": 209,
   "metadata": {},
   "outputs": [
    {
     "data": {
      "text/plain": [
       "4.6986245559495743e-21"
      ]
     },
     "execution_count": 209,
     "metadata": {},
     "output_type": "execute_result"
    }
   ],
   "source": [
    "final_ke_data = []\n",
    "\n"
   ]
  },
  {
   "cell_type": "code",
   "execution_count": 135,
   "metadata": {
    "collapsed": true
   },
   "outputs": [],
   "source": [
    "final_ke_data.append(np.mean(ke_data_temp))"
   ]
  },
  {
   "cell_type": "code",
   "execution_count": 252,
   "metadata": {},
   "outputs": [
    {
     "data": {
      "text/plain": [
       "[3.8043475337761204e-21,\n",
       " 4.084088945641278e-21,\n",
       " 4.2334731389722955e-21,\n",
       " 4.406675400851565e-21,\n",
       " 4.577658505298949e-21,\n",
       " 4.698624555949574e-21]"
      ]
     },
     "execution_count": 252,
     "metadata": {},
     "output_type": "execute_result"
    }
   ],
   "source": [
    "final_ke_data"
   ]
  },
  {
   "cell_type": "code",
   "execution_count": null,
   "metadata": {},
   "outputs": [],
   "source": []
  },
  {
   "cell_type": "code",
   "execution_count": 236,
   "metadata": {},
   "outputs": [],
   "source": [
    "from scipy.optimize import curve_fit\n",
    "\n",
    "def func(x,a,b):\n",
    "    \n",
    "    return (a*x)+b\n",
    "\n",
    "popt, pcov = curve_fit(func, temp, final_ke_data)\n"
   ]
  },
  {
   "cell_type": "code",
   "execution_count": 254,
   "metadata": {},
   "outputs": [
    {
     "data": {
      "image/png": "[encoded data removed]",
      "text/plain": [
       "<matplotlib.figure.Figure at 0x110aa5d30>"
      ]
     },
     "metadata": {},
     "output_type": "display_data"
    },
    {
     "name": "stderr",
     "output_type": "stream",
     "text": [
      "/Users/harshrathee/anaconda/lib/python3.6/site-packages/matplotlib/axes/_axes.py:545: UserWarning: No labelled objects found. Use label='...' kwarg on individual plots.\n",
      "  warnings.warn(\"No labelled objects found. \"\n"
     ]
    }
   ],
   "source": [
    "plt.plot(temp, final_ke_data, 'ro',label = \"Data\")\n",
    "plt.plot(temp, func(temp, *popt), label = \"fit\")\n",
    "\n",
    "plt.show()\n",
    "plt.legend()\n",
    "plt.gcf().clear()"
   ]
  },
  {
   "cell_type": "code",
   "execution_count": 238,
   "metadata": {},
   "outputs": [
    {
     "data": {
      "text/plain": [
       "1.7500845905832134e-23"
      ]
     },
     "execution_count": 238,
     "metadata": {},
     "output_type": "execute_result"
    }
   ],
   "source": [
    "popt[0]"
   ]
  },
  {
   "cell_type": "code",
   "execution_count": 214,
   "metadata": {},
   "outputs": [
    {
     "data": {
      "text/plain": [
       "1.7786675100226268e-23"
      ]
     },
     "execution_count": 214,
     "metadata": {},
     "output_type": "execute_result"
    }
   ],
   "source": []
  },
  {
   "cell_type": "code",
   "execution_count": null,
   "metadata": {},
   "outputs": [],
   "source": []
  },
  {
   "cell_type": "code",
   "execution_count": 250,
   "metadata": {},
   "outputs": [
    {
     "ename": "TypeError",
     "evalue": "'str' object is not callable",
     "output_type": "error",
     "traceback": [
      "\u001b[0;31m---------------------------------------------------------------------------\u001b[0m",
      "\u001b[0;31mTypeError\u001b[0m                                 Traceback (most recent call last)",
      "\u001b[0;32m<ipython-input-250-a1c4f0c7307c>\u001b[0m in \u001b[0;36m<module>\u001b[0;34m()\u001b[0m\n\u001b[1;32m      1\u001b[0m \u001b[0;32mimport\u001b[0m \u001b[0mmatplotlib\u001b[0m\u001b[0;34m.\u001b[0m\u001b[0mpyplot\u001b[0m \u001b[0;32mas\u001b[0m \u001b[0mplt\u001b[0m\u001b[0;34m\u001b[0m\u001b[0m\n\u001b[1;32m      2\u001b[0m \u001b[0mplt\u001b[0m\u001b[0;34m.\u001b[0m\u001b[0mplot\u001b[0m\u001b[0;34m(\u001b[0m\u001b[0;34m[\u001b[0m\u001b[0;36m1\u001b[0m\u001b[0;34m,\u001b[0m\u001b[0;36m2\u001b[0m\u001b[0;34m,\u001b[0m\u001b[0;36m3\u001b[0m\u001b[0;34m,\u001b[0m\u001b[0;36m4\u001b[0m\u001b[0;34m]\u001b[0m\u001b[0;34m)\u001b[0m\u001b[0;34m\u001b[0m\u001b[0m\n\u001b[0;32m----> 3\u001b[0;31m \u001b[0mplt\u001b[0m\u001b[0;34m.\u001b[0m\u001b[0mylabel\u001b[0m\u001b[0;34m(\u001b[0m\u001b[0;34m'some numbers'\u001b[0m\u001b[0;34m)\u001b[0m\u001b[0;34m\u001b[0m\u001b[0m\n\u001b[0m\u001b[1;32m      4\u001b[0m \u001b[0mplt\u001b[0m\u001b[0;34m.\u001b[0m\u001b[0mshow\u001b[0m\u001b[0;34m(\u001b[0m\u001b[0;34m)\u001b[0m\u001b[0;34m\u001b[0m\u001b[0m\n",
      "\u001b[0;31mTypeError\u001b[0m: 'str' object is not callable"
     ]
    }
   ],
   "source": [
    "import matplotlib.pyplot as plt\n",
    "plt.plot([1,2,3,4])\n",
    "plt.ylabel('some numbers')\n",
    "plt.show()"
   ]
  },
  {
   "cell_type": "code",
   "execution_count": null,
   "metadata": {
    "collapsed": true
   },
   "outputs": [],
   "source": []
  }
 ],
 "metadata": {
  "kernelspec": {
   "display_name": "Python 3",
   "language": "python",
   "name": "python3"
  },
  "language_info": {
   "codemirror_mode": {
    "name": "ipython",
    "version": 3
   },
   "file_extension": ".py",
   "mimetype": "text/x-python",
   "name": "python",
   "nbconvert_exporter": "python",
   "pygments_lexer": "ipython3",
   "version": "3.6.1"
  }
 },
 "nbformat": 4,
 "nbformat_minor": 2
}
